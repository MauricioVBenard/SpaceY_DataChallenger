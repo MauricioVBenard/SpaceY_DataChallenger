{
 "cells": [
  {
   "cell_type": "markdown",
   "id": "cacc9d45",
   "metadata": {},
   "source": [
    "SpaceX has gained worldwide attention for a series of historic milestones.\n",
    "\n",
    "It is the only private company ever to return a spacecraft from low-earth orbit, which it first accomplished in December 2010. SpaceX advertises Falcon 9 rocket launches on its website with a cost of 62 million dollars wheras other providers cost upward of 165 million dollars each, much of the savings is because Space X can reuse the first stage.\n",
    "\n",
    "Therefore if we can determine if the first stage will land, we can determine the cost of a launch.\n",
    "\n",
    "This information can be used if an alternate company wants to bid against SpaceX for a rocket launch.\n",
    "\n",
    "This dataset includes a record for each payload carried during a SpaceX mission into outer space.\n",
    "\n"
   ]
  },
  {
   "cell_type": "markdown",
   "id": "db9ed734",
   "metadata": {},
   "source": [
    "## CONNECT TO THE DATASET"
   ]
  },
  {
   "cell_type": "code",
   "execution_count": 1,
   "id": "459f12a4",
   "metadata": {},
   "outputs": [],
   "source": [
    "#Let us first load the SQL extension and establish a connection with the database\n",
    "import csv, sqlite3\n",
    "import prettytable\n",
    "prettytable.DEFAULT = 'DEFAULT'\n",
    "\n",
    "con = sqlite3.connect(\"my_data1.db\")\n",
    "cur = con.cursor()\n"
   ]
  },
  {
   "cell_type": "code",
   "execution_count": 2,
   "id": "95c42a08",
   "metadata": {},
   "outputs": [
    {
     "name": "stderr",
     "output_type": "stream",
     "text": [
      "C:\\Users\\mauri\\anaconda3\\Lib\\site-packages\\pandas\\core\\arrays\\masked.py:60: UserWarning: Pandas requires version '1.3.6' or newer of 'bottleneck' (version '1.3.5' currently installed).\n",
      "  from pandas.core import (\n"
     ]
    },
    {
     "data": {
      "text/plain": [
       "101"
      ]
     },
     "execution_count": 2,
     "metadata": {},
     "output_type": "execute_result"
    }
   ],
   "source": [
    "import pandas as pd\n",
    "df = pd.read_csv(\"https://cf-courses-data.s3.us.cloud-object-storage.appdomain.cloud/IBM-DS0321EN-SkillsNetwork/labs/module_2/data/Spacex.csv\")\n",
    "df.to_sql(\"SPACEXTBL\", con, if_exists='replace', index=False,method=\"multi\")"
   ]
  },
  {
   "cell_type": "code",
   "execution_count": 5,
   "id": "fe4ca27c",
   "metadata": {},
   "outputs": [
    {
     "name": "stdout",
     "output_type": "stream",
     "text": [
      "Tables in the database: [('SPACEXTBL',), ('SPACEXTABLE',)]\n",
      "Number of rows in SPACEXTABLE: 101\n"
     ]
    }
   ],
   "source": [
    "import csv, sqlite3\n",
    "import pandas as pd\n",
    "from prettytable import PrettyTable\n",
    "\n",
    "# Connect to the SQLite database\n",
    "con = sqlite3.connect(\"my_data1.db\")\n",
    "cur = con.cursor()\n",
    "\n",
    "# Load the SpaceX CSV data into a pandas DataFrame\n",
    "df = pd.read_csv(\"https://cf-courses-data.s3.us.cloud-object-storage.appdomain.cloud/IBM-DS0321EN-SkillsNetwork/labs/module_2/data/Spacex.csv\")\n",
    "\n",
    "# Load the DataFrame into the SQLite table \"SPACEXTBL\"\n",
    "df.to_sql(\"SPACEXTBL\", con, if_exists='replace', index=False, method=\"multi\")\n",
    "\n",
    "# Drop the \"SPACEXTABLE\" if it exists (to start fresh)\n",
    "cur.execute(\"DROP TABLE IF EXISTS SPACEXTABLE\")\n",
    "\n",
    "# Create a new \"SPACEXTABLE\" from \"SPACEXTBL\" excluding rows with null 'Date' values\n",
    "cur.execute(\"CREATE TABLE SPACEXTABLE AS SELECT * FROM SPACEXTBL WHERE Date IS NOT NULL\")\n",
    "\n",
    "# Commit the changes and close the connection\n",
    "con.commit()\n",
    "\n",
    "#Optional: Verify the table creation and the data.\n",
    "cur.execute(\"SELECT name FROM sqlite_master WHERE type='table';\")\n",
    "print(\"Tables in the database:\", cur.fetchall())\n",
    "\n",
    "cur.execute(\"SELECT count(*) FROM SPACEXTABLE\")\n",
    "print(\"Number of rows in SPACEXTABLE:\", cur.fetchone()[0])\n",
    "\n",
    "con.close()\n"
   ]
  },
  {
   "cell_type": "code",
   "execution_count": 7,
   "id": "1a5f58f7",
   "metadata": {},
   "outputs": [
    {
     "name": "stdout",
     "output_type": "stream",
     "text": [
      "+--------------+\n",
      "| Launch Site  |\n",
      "+--------------+\n",
      "| CCAFS LC-40  |\n",
      "| VAFB SLC-4E  |\n",
      "|  KSC LC-39A  |\n",
      "| CCAFS SLC-40 |\n",
      "+--------------+\n"
     ]
    }
   ],
   "source": [
    "import sqlite3\n",
    "from prettytable import PrettyTable\n",
    "\n",
    "# Connect to the database\n",
    "con = sqlite3.connect(\"my_data1.db\")\n",
    "cur = con.cursor()\n",
    "\n",
    "# Execute the SQL query\n",
    "cur.execute(\"SELECT DISTINCT Launch_Site FROM SPACEXTABLE;\")\n",
    "\n",
    "# Fetch the results\n",
    "results = cur.fetchall()\n",
    "\n",
    "# Create a PrettyTable to display the results in a user-friendly format\n",
    "table = PrettyTable()\n",
    "table.field_names = [\"Launch Site\"]  # Set the column header\n",
    "for row in results:\n",
    "    table.add_row(row)  # Add each row of data to the table\n",
    "\n",
    "# Print the table\n",
    "print(table)\n",
    "\n",
    "# Close the connection\n",
    "con.close()\n"
   ]
  },
  {
   "cell_type": "code",
   "execution_count": 8,
   "id": "e655d7a7",
   "metadata": {},
   "outputs": [
    {
     "name": "stdout",
     "output_type": "stream",
     "text": [
      "+-------------+\n",
      "| Launch Site |\n",
      "+-------------+\n",
      "| CCAFS LC-40 |\n",
      "| CCAFS LC-40 |\n",
      "| CCAFS LC-40 |\n",
      "| CCAFS LC-40 |\n",
      "| CCAFS LC-40 |\n",
      "+-------------+\n"
     ]
    }
   ],
   "source": [
    "import sqlite3\n",
    "from prettytable import PrettyTable\n",
    "\n",
    "# Connect to the database\n",
    "con = sqlite3.connect(\"my_data1.db\")\n",
    "cur = con.cursor()\n",
    "\n",
    "# Execute the SQL query to select the first 5 launch sites that start with 'CCA'\n",
    "cur.execute(\"SELECT Launch_Site FROM SPACEXTABLE WHERE Launch_Site LIKE 'CCA%' LIMIT 5;\")\n",
    "\n",
    "# Fetch the results\n",
    "results = cur.fetchall()\n",
    "\n",
    "# Create a PrettyTable to display the results\n",
    "table = PrettyTable()\n",
    "table.field_names = [\"Launch Site\"]\n",
    "for row in results:\n",
    "    table.add_row(row)\n",
    "\n",
    "# Print the table\n",
    "print(table)\n",
    "\n",
    "# Close the connection\n",
    "con.close()\n"
   ]
  },
  {
   "cell_type": "code",
   "execution_count": 9,
   "id": "e5270fc7",
   "metadata": {},
   "outputs": [
    {
     "name": "stdout",
     "output_type": "stream",
     "text": [
      "+-------------------------+\n",
      "| Total Payload Mass (KG) |\n",
      "+-------------------------+\n",
      "|          45596          |\n",
      "+-------------------------+\n"
     ]
    }
   ],
   "source": [
    "#Display the total payload mass carried by boosters launched by NASA (CRS)\n",
    "import sqlite3\n",
    "from prettytable import PrettyTable\n",
    "\n",
    "# Connect to the database\n",
    "con = sqlite3.connect(\"my_data1.db\")\n",
    "cur = con.cursor()\n",
    "\n",
    "# Execute the SQL query to calculate the total payload mass for NASA (CRS)\n",
    "cur.execute(\"SELECT SUM(PAYLOAD_MASS__KG_) FROM SPACEXTABLE WHERE Customer = 'NASA (CRS)';\")\n",
    "\n",
    "# Fetch the result\n",
    "result = cur.fetchone()\n",
    "\n",
    "# Create a PrettyTable to display the result\n",
    "table = PrettyTable()\n",
    "table.field_names = [\"Total Payload Mass (KG)\"]\n",
    "table.add_row(result)\n",
    "\n",
    "# Print the table\n",
    "print(table)\n",
    "\n",
    "# Close the connection\n",
    "con.close()\n"
   ]
  },
  {
   "cell_type": "code",
   "execution_count": 10,
   "id": "814851c2",
   "metadata": {},
   "outputs": [
    {
     "name": "stdout",
     "output_type": "stream",
     "text": [
      "+---------------------------+\n",
      "| Average Payload Mass (KG) |\n",
      "+---------------------------+\n",
      "|           2928.4          |\n",
      "+---------------------------+\n"
     ]
    }
   ],
   "source": [
    "#Display average payload mass carried by booster version F9 v1.1\n",
    "import sqlite3\n",
    "from prettytable import PrettyTable\n",
    "\n",
    "# Connect to the database\n",
    "con = sqlite3.connect(\"my_data1.db\")\n",
    "cur = con.cursor()\n",
    "\n",
    "# Execute the SQL query to calculate the average payload mass for F9 v1.1\n",
    "cur.execute(\"SELECT AVG(PAYLOAD_MASS__KG_) FROM SPACEXTABLE WHERE Booster_Version = 'F9 v1.1';\")\n",
    "\n",
    "# Fetch the result\n",
    "result = cur.fetchone()\n",
    "\n",
    "# Create a PrettyTable to display the result\n",
    "table = PrettyTable()\n",
    "table.field_names = [\"Average Payload Mass (KG)\"]\n",
    "table.add_row(result)\n",
    "\n",
    "# Print the table\n",
    "print(table)\n",
    "\n",
    "# Close the connection\n",
    "con.close()\n"
   ]
  },
  {
   "cell_type": "code",
   "execution_count": 11,
   "id": "09935822",
   "metadata": {},
   "outputs": [
    {
     "name": "stdout",
     "output_type": "stream",
     "text": [
      "+------------------------------------------+\n",
      "| First Successful Ground Pad Landing Date |\n",
      "+------------------------------------------+\n",
      "|                2015-12-22                |\n",
      "+------------------------------------------+\n"
     ]
    }
   ],
   "source": [
    "#List the date when the first succesful landing outcome in ground pad was acheived.\n",
    "import sqlite3\n",
    "from prettytable import PrettyTable\n",
    "\n",
    "# Connect to the database\n",
    "con = sqlite3.connect(\"my_data1.db\")\n",
    "cur = con.cursor()\n",
    "\n",
    "# Execute the SQL query to find the earliest date of a successful ground pad landing\n",
    "cur.execute(\"SELECT MIN(Date) FROM SPACEXTABLE WHERE Landing_Outcome = 'Success (ground pad)';\")\n",
    "\n",
    "# Fetch the result\n",
    "result = cur.fetchone()\n",
    "\n",
    "# Create a PrettyTable to display the result\n",
    "table = PrettyTable()\n",
    "table.field_names = [\"First Successful Ground Pad Landing Date\"]\n",
    "table.add_row(result)\n",
    "\n",
    "# Print the table\n",
    "print(table)\n",
    "\n",
    "# Close the connection\n",
    "con.close()"
   ]
  },
  {
   "cell_type": "code",
   "execution_count": 12,
   "id": "79ef76e0",
   "metadata": {},
   "outputs": [
    {
     "name": "stdout",
     "output_type": "stream",
     "text": [
      "+-----------------+\n",
      "| Booster Version |\n",
      "+-----------------+\n",
      "|   F9 FT B1022   |\n",
      "|   F9 FT B1026   |\n",
      "|  F9 FT  B1021.2 |\n",
      "|  F9 FT  B1031.2 |\n",
      "+-----------------+\n"
     ]
    }
   ],
   "source": [
    "#List the names of the boosters which have success in drone ship and have payload mass greater than 4000 but less than 6000\n",
    "import sqlite3\n",
    "from prettytable import PrettyTable\n",
    "\n",
    "# Connect to the database\n",
    "con = sqlite3.connect(\"my_data1.db\")\n",
    "cur = con.cursor()\n",
    "\n",
    "# Execute the SQL query\n",
    "cur.execute(\"\"\"\n",
    "    SELECT Booster_Version\n",
    "    FROM SPACEXTABLE\n",
    "    WHERE Landing_Outcome = 'Success (drone ship)'\n",
    "    AND PAYLOAD_MASS__KG_ > 4000\n",
    "    AND PAYLOAD_MASS__KG_ < 6000;\n",
    "\"\"\")\n",
    "\n",
    "# Fetch the results\n",
    "results = cur.fetchall()\n",
    "\n",
    "# Create a PrettyTable to display the results\n",
    "table = PrettyTable()\n",
    "table.field_names = [\"Booster Version\"]\n",
    "for row in results:\n",
    "    table.add_row(row)\n",
    "\n",
    "# Print the table\n",
    "print(table)\n",
    "\n",
    "# Close the connection\n",
    "con.close()\n"
   ]
  },
  {
   "cell_type": "code",
   "execution_count": 14,
   "id": "60d1a6a0",
   "metadata": {},
   "outputs": [
    {
     "name": "stdout",
     "output_type": "stream",
     "text": [
      "+----------------------------------+-------+\n",
      "|         Mission Outcome          | Total |\n",
      "+----------------------------------+-------+\n",
      "|       Failure (in flight)        |   1   |\n",
      "|             Success              |   98  |\n",
      "|             Success              |   1   |\n",
      "| Success (payload status unclear) |   1   |\n",
      "+----------------------------------+-------+\n"
     ]
    }
   ],
   "source": [
    "#List the total number of successful and failure mission outcomes\n",
    "import sqlite3\n",
    "from prettytable import PrettyTable\n",
    "\n",
    "# Connect to the database\n",
    "con = sqlite3.connect(\"my_data1.db\")\n",
    "cur = con.cursor()\n",
    "\n",
    "# Execute the SQL query\n",
    "cur.execute(\"\"\"\n",
    "    SELECT Mission_Outcome, COUNT(*) AS Total\n",
    "    FROM SPACEXTABLE\n",
    "    GROUP BY Mission_Outcome;\n",
    "\"\"\")\n",
    "\n",
    "# Fetch the results\n",
    "results = cur.fetchall()\n",
    "\n",
    "# Create a PrettyTable to display the results\n",
    "table = PrettyTable()\n",
    "table.field_names = [\"Mission Outcome\", \"Total\"]\n",
    "for row in results:\n",
    "    table.add_row(row)\n",
    "\n",
    "# Print the table\n",
    "print(table)\n",
    "\n",
    "# Close the connection\n",
    "con.close()\n"
   ]
  },
  {
   "cell_type": "code",
   "execution_count": 15,
   "id": "7410d273",
   "metadata": {},
   "outputs": [
    {
     "name": "stdout",
     "output_type": "stream",
     "text": [
      "+-----------------+\n",
      "| Booster Version |\n",
      "+-----------------+\n",
      "|  F9 B5 B1048.4  |\n",
      "|  F9 B5 B1049.4  |\n",
      "|  F9 B5 B1051.3  |\n",
      "|  F9 B5 B1056.4  |\n",
      "|  F9 B5 B1048.5  |\n",
      "|  F9 B5 B1051.4  |\n",
      "|  F9 B5 B1049.5  |\n",
      "|  F9 B5 B1060.2  |\n",
      "|  F9 B5 B1058.3  |\n",
      "|  F9 B5 B1051.6  |\n",
      "|  F9 B5 B1060.3  |\n",
      "|  F9 B5 B1049.7  |\n",
      "+-----------------+\n"
     ]
    }
   ],
   "source": [
    "#List all the booster_versions that have carried the maximum payload mass. Use a subquery.\n",
    "import sqlite3\n",
    "from prettytable import PrettyTable\n",
    "\n",
    "# Connect to the database\n",
    "con = sqlite3.connect(\"my_data1.db\")\n",
    "cur = con.cursor()\n",
    "\n",
    "# Execute the SQL query\n",
    "cur.execute(\"\"\"\n",
    "    SELECT Booster_Version\n",
    "    FROM SPACEXTABLE\n",
    "    WHERE PAYLOAD_MASS__KG_ = (SELECT MAX(PAYLOAD_MASS__KG_) FROM SPACEXTABLE);\n",
    "\"\"\")\n",
    "\n",
    "# Fetch the results\n",
    "results = cur.fetchall()\n",
    "\n",
    "# Create a PrettyTable to display the results\n",
    "table = PrettyTable()\n",
    "table.field_names = [\"Booster Version\"]\n",
    "for row in results:\n",
    "    table.add_row(row)\n",
    "\n",
    "# Print the table\n",
    "print(table)\n",
    "\n",
    "# Close the connection\n",
    "con.close()\n"
   ]
  },
  {
   "cell_type": "code",
   "execution_count": 16,
   "id": "37927ea9",
   "metadata": {},
   "outputs": [
    {
     "name": "stdout",
     "output_type": "stream",
     "text": [
      "+---------+----------------------+-----------------+-------------+\n",
      "|  Month  |   Landing Outcome    | Booster Version | Launch Site |\n",
      "+---------+----------------------+-----------------+-------------+\n",
      "| January | Failure (drone ship) |  F9 v1.1 B1012  | CCAFS LC-40 |\n",
      "|  April  | Failure (drone ship) |  F9 v1.1 B1015  | CCAFS LC-40 |\n",
      "+---------+----------------------+-----------------+-------------+\n"
     ]
    }
   ],
   "source": [
    "#List the records which will display the month names, failure landing_outcomes in drone ship ,booster versions, launch_site for the months in year 2015.\n",
    "#Note: SQLLite does not support monthnames. So you need to use substr(Date, 6,2) as month to get the months and substr(Date,0,5)='2015' for year.\n",
    "\n",
    "import sqlite3\n",
    "from prettytable import PrettyTable\n",
    "\n",
    "# Connect to the database\n",
    "con = sqlite3.connect(\"my_data1.db\")\n",
    "cur = con.cursor()\n",
    "\n",
    "# Execute the SQL query\n",
    "cur.execute(\"\"\"\n",
    "    SELECT\n",
    "        CASE\n",
    "            substr(Date, 6, 2)\n",
    "            WHEN '01' THEN 'January'\n",
    "            WHEN '02' THEN 'February'\n",
    "            WHEN '03' THEN 'March'\n",
    "            WHEN '04' THEN 'April'\n",
    "            WHEN '05' THEN 'May'\n",
    "            WHEN '06' THEN 'June'\n",
    "            WHEN '07' THEN 'July'\n",
    "            WHEN '08' THEN 'August'\n",
    "            WHEN '09' THEN 'September'\n",
    "            WHEN '10' THEN 'October'\n",
    "            WHEN '11' THEN 'November'\n",
    "            WHEN '12' THEN 'December'\n",
    "        END AS Month,\n",
    "        Landing_Outcome,\n",
    "        Booster_Version,\n",
    "        Launch_Site\n",
    "    FROM SPACEXTABLE\n",
    "    WHERE substr(Date, 0, 5) = '2015'\n",
    "    AND Landing_Outcome = 'Failure (drone ship)';\n",
    "\"\"\")\n",
    "\n",
    "# Fetch the results\n",
    "results = cur.fetchall()\n",
    "\n",
    "# Create a PrettyTable to display the results\n",
    "table = PrettyTable()\n",
    "table.field_names = [\"Month\", \"Landing Outcome\", \"Booster Version\", \"Launch Site\"]\n",
    "for row in results:\n",
    "    table.add_row(row)\n",
    "\n",
    "# Print the table\n",
    "print(table)\n",
    "\n",
    "# Close the connection\n",
    "con.close()\n"
   ]
  },
  {
   "cell_type": "code",
   "execution_count": 17,
   "id": "6103f6b7",
   "metadata": {},
   "outputs": [
    {
     "name": "stdout",
     "output_type": "stream",
     "text": [
      "+------------------------+---------------+\n",
      "|    Landing Outcome     | Outcome Count |\n",
      "+------------------------+---------------+\n",
      "|       No attempt       |       10      |\n",
      "|  Success (drone ship)  |       5       |\n",
      "|  Failure (drone ship)  |       5       |\n",
      "|  Success (ground pad)  |       3       |\n",
      "|   Controlled (ocean)   |       3       |\n",
      "|  Uncontrolled (ocean)  |       2       |\n",
      "|  Failure (parachute)   |       2       |\n",
      "| Precluded (drone ship) |       1       |\n",
      "+------------------------+---------------+\n"
     ]
    }
   ],
   "source": [
    "#Rank the count of landing outcomes (such as Failure (drone ship) or Success (ground pad)) between the date 2010-06-04 and 2017-03-20, in descending order.\n",
    "import sqlite3\n",
    "from prettytable import PrettyTable\n",
    "\n",
    "# Connect to the database\n",
    "con = sqlite3.connect(\"my_data1.db\")\n",
    "cur = con.cursor()\n",
    "\n",
    "# Execute the SQL query\n",
    "cur.execute(\"\"\"\n",
    "    SELECT Landing_Outcome, COUNT(*) AS OutcomeCount\n",
    "    FROM SPACEXTABLE\n",
    "    WHERE Date BETWEEN '2010-06-04' AND '2017-03-20'\n",
    "    GROUP BY Landing_Outcome\n",
    "    ORDER BY OutcomeCount DESC;\n",
    "\"\"\")\n",
    "\n",
    "# Fetch the results\n",
    "results = cur.fetchall()\n",
    "\n",
    "# Create a PrettyTable to display the results\n",
    "table = PrettyTable()\n",
    "table.field_names = [\"Landing Outcome\", \"Outcome Count\"]\n",
    "for row in results:\n",
    "    table.add_row(row)\n",
    "\n",
    "# Print the table\n",
    "print(table)\n",
    "\n",
    "# Close the connection\n",
    "con.close()\n"
   ]
  },
  {
   "cell_type": "code",
   "execution_count": null,
   "id": "41784119",
   "metadata": {},
   "outputs": [],
   "source": []
  }
 ],
 "metadata": {
  "kernelspec": {
   "display_name": "Python 3 (ipykernel)",
   "language": "python",
   "name": "python3"
  },
  "language_info": {
   "codemirror_mode": {
    "name": "ipython",
    "version": 3
   },
   "file_extension": ".py",
   "mimetype": "text/x-python",
   "name": "python",
   "nbconvert_exporter": "python",
   "pygments_lexer": "ipython3",
   "version": "3.11.5"
  }
 },
 "nbformat": 4,
 "nbformat_minor": 5
}
